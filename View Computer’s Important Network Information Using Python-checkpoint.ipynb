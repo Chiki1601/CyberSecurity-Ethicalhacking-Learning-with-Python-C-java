{
 "cells": [
  {
   "cell_type": "code",
   "execution_count": 9,
   "id": "e0886e5d",
   "metadata": {},
   "outputs": [
    {
     "name": "stdout",
     "output_type": "stream",
     "text": [
      "['']\n",
      "['Windows IP Configuration']\n",
      "['']\n",
      "['   Host Name . . . . . . . . . . . . : DESKTOP-G2U1VDQ']\n",
      "['   Primary Dns Suffix  . . . . . . . : ']\n",
      "['   Node Type . . . . . . . . . . . . : Hybrid']\n",
      "['   IP Routing Enabled. . . . . . . . : No']\n",
      "['   WINS Proxy Enabled. . . . . . . . : No']\n",
      "['']\n",
      "['Ethernet adapter Ethernet:']\n",
      "['']\n",
      "['   Media State . . . . . . . . . . . : Media disconnected']\n",
      "['   Connection-specific DNS Suffix  . : ']\n",
      "['   Description . . . . . . . . . . . : Realtek PCIe GbE Family Controller']\n",
      "['   Physical Address. . . . . . . . . : 74-D4-35-D3-67-7F']\n",
      "['   DHCP Enabled. . . . . . . . . . . : Yes']\n",
      "['   Autoconfiguration Enabled . . . . : Yes']\n",
      "['']\n",
      "['Ethernet adapter VirtualBox Host-Only Network:']\n",
      "['']\n",
      "['   Connection-specific DNS Suffix  . : ']\n",
      "['   Description . . . . . . . . . . . : VirtualBox Host-Only Ethernet Adapter']\n",
      "['   Physical Address. . . . . . . . . : 0A-00-27-00-00-10']\n",
      "['   DHCP Enabled. . . . . . . . . . . : No']\n",
      "['   Autoconfiguration Enabled . . . . : Yes']\n",
      "['   Link-local IPv6 Address . . . . . : fe80::802b:4193:4ce:9e74%16(Preferred) ']\n",
      "['   IPv4 Address. . . . . . . . . . . : 192.168.56.1(Preferred) ']\n",
      "['   Subnet Mask . . . . . . . . . . . : 255.255.255.0']\n",
      "['   Default Gateway . . . . . . . . . : ']\n",
      "['   DHCPv6 IAID . . . . . . . . . . . : 671744039']\n",
      "['   DHCPv6 Client DUID. . . . . . . . : 00-01-00-01-27-C7-DA-24-74-D4-35-D3-67-7F']\n",
      "['   DNS Servers . . . . . . . . . . . : fec0:0:0:ffff::1%1']\n",
      "['                                       fec0:0:0:ffff::2%1']\n",
      "['                                       fec0:0:0:ffff::3%1']\n",
      "['   NetBIOS over Tcpip. . . . . . . . : Enabled']\n",
      "['']\n",
      "['Wireless LAN adapter Local Area Connection* 9:']\n",
      "['']\n",
      "['   Media State . . . . . . . . . . . : Media disconnected']\n",
      "['   Connection-specific DNS Suffix  . : ']\n",
      "['   Description . . . . . . . . . . . : Microsoft Wi-Fi Direct Virtual Adapter']\n",
      "['   Physical Address. . . . . . . . . : 52-3E-AA-64-CD-96']\n",
      "['   DHCP Enabled. . . . . . . . . . . : Yes']\n",
      "['   Autoconfiguration Enabled . . . . : Yes']\n",
      "['']\n",
      "['Wireless LAN adapter Local Area Connection* 10:']\n",
      "['']\n",
      "['   Media State . . . . . . . . . . . : Media disconnected']\n",
      "['   Connection-specific DNS Suffix  . : ']\n",
      "['   Description . . . . . . . . . . . : Microsoft Wi-Fi Direct Virtual Adapter #2']\n",
      "['   Physical Address. . . . . . . . . : 50-3E-AA-64-CD-96']\n",
      "['   DHCP Enabled. . . . . . . . . . . : Yes']\n",
      "['   Autoconfiguration Enabled . . . . : Yes']\n",
      "['']\n",
      "['Wireless LAN adapter Wi-Fi:']\n",
      "['']\n",
      "['   Connection-specific DNS Suffix  . : ']\n",
      "['   Description . . . . . . . . . . . : TP-Link Wireless USB Adapter']\n",
      "['   Physical Address. . . . . . . . . : 50-3E-AA-64-CD-96']\n",
      "['   DHCP Enabled. . . . . . . . . . . : Yes']\n",
      "['   Autoconfiguration Enabled . . . . : Yes']\n",
      "['   IPv6 Address. . . . . . . . . . . : 2405:205:c88c:369e:3d17:8c44:c02c:9922(Preferred) ']\n",
      "['   Temporary IPv6 Address. . . . . . : 2405:205:c88c:369e:b131:c0c9:edcd:5eab(Preferred) ']\n",
      "['   Link-local IPv6 Address . . . . . : fe80::3d17:8c44:c02c:9922%6(Preferred) ']\n",
      "['   IPv4 Address. . . . . . . . . . . : 192.168.43.106(Preferred) ']\n",
      "['   Subnet Mask . . . . . . . . . . . : 255.255.255.0']\n",
      "['   Lease Obtained. . . . . . . . . . : Tuesday, October 12, 2021 3:54:32 PM']\n",
      "['   Lease Expires . . . . . . . . . . : Tuesday, October 12, 2021 5:51:20 PM']\n",
      "['   Default Gateway . . . . . . . . . : fe80::a25:25ff:fe28:f2bb%6']\n",
      "['                                       192.168.43.1']\n",
      "['   DHCP Server . . . . . . . . . . . : 192.168.43.1']\n",
      "['   DHCPv6 IAID . . . . . . . . . . . : 407912106']\n",
      "['   DHCPv6 Client DUID. . . . . . . . : 00-01-00-01-27-C7-DA-24-74-D4-35-D3-67-7F']\n",
      "['   DNS Servers . . . . . . . . . . . : 192.168.43.1']\n",
      "['   NetBIOS over Tcpip. . . . . . . . : Enabled']\n",
      "[]\n"
     ]
    }
   ],
   "source": [
    "# import module\n",
    "import subprocess\n",
    "\n",
    "# Traverse the ipconfig information\n",
    "data = subprocess.check_output(['ipconfig','/all']).decode('utf-8').split('\\n')\n",
    "\n",
    "# Arrange the bytes data\n",
    "for item in data:\n",
    "\tprint(item.split('\\r')[:-1])\n"
   ]
  },
  {
   "cell_type": "code",
   "execution_count": 10,
   "id": "05a3e752",
   "metadata": {},
   "outputs": [
    {
     "name": "stdout",
     "output_type": "stream",
     "text": [
      "Collecting ifcfg\n",
      "  Downloading ifcfg-0.22-py2.py3-none-any.whl (10 kB)\n",
      "Installing collected packages: ifcfg\n",
      "Successfully installed ifcfg-0.22\n"
     ]
    }
   ],
   "source": [
    "!pip install ifcfg"
   ]
  },
  {
   "cell_type": "code",
   "execution_count": 11,
   "id": "ddd72f55",
   "metadata": {},
   "outputs": [
    {
     "name": "stdout",
     "output_type": "stream",
     "text": [
      "{'Ethernet adapter Ethernet': {'inet': None, 'inet4': [], 'ether': '74:d4:35:d3:67:7f', 'inet6': [], 'netmask': None, 'device': 'ethernet adapter ethernet'}, 'Ethernet adapter VirtualBox Host-Only Network': {'inet': '192.168.56.1', 'inet4': ['192.168.56.1'], 'ether': '0a:00:27:00:00:10', 'inet6': [], 'netmask': None, 'device': 'ethernet adapter virtualbox host-only network', 'hostname': 'desktop-g2u1vdq'}, 'Wireless LAN adapter Local Area Connection* 9': {'inet': None, 'inet4': [], 'ether': '52:3e:aa:64:cd:96', 'inet6': [], 'netmask': None, 'device': 'wireless lan adapter local area connection* 9'}, 'Wireless LAN adapter Local Area Connection* 10': {'inet': None, 'inet4': [], 'ether': '50:3e:aa:64:cd:96', 'inet6': [], 'netmask': None, 'device': 'wireless lan adapter local area connection* 10'}, 'Wireless LAN adapter Wi-Fi': {'inet': '192.168.43.106', 'inet4': ['192.168.43.106'], 'ether': '50:3e:aa:64:cd:96', 'inet6': ['2405:205:c88c:369e:3d17:8c44:c02c:9922'], 'netmask': None, 'device': 'wireless lan adapter wi-fi', 'default_gateway': 'fe80::a25:25ff:fe28:f2bb%6', 'hostname': 'desktop-g2u1vdq'}}\n"
     ]
    }
   ],
   "source": [
    "import ifcfg\n",
    "print(ifcfg.interfaces())\n"
   ]
  },
  {
   "cell_type": "code",
   "execution_count": null,
   "id": "3615447f",
   "metadata": {},
   "outputs": [],
   "source": []
  }
 ],
 "metadata": {
  "kernelspec": {
   "display_name": "Python 3",
   "language": "python",
   "name": "python3"
  },
  "language_info": {
   "codemirror_mode": {
    "name": "ipython",
    "version": 3
   },
   "file_extension": ".py",
   "mimetype": "text/x-python",
   "name": "python",
   "nbconvert_exporter": "python",
   "pygments_lexer": "ipython3",
   "version": "3.8.8"
  }
 },
 "nbformat": 4,
 "nbformat_minor": 5
}
