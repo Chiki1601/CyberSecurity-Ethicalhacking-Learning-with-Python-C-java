{
 "cells": [
  {
   "cell_type": "code",
   "execution_count": 6,
   "id": "c0bd8825",
   "metadata": {},
   "outputs": [
    {
     "name": "stdout",
     "output_type": "stream",
     "text": [
      "The available algorithms are : {'sha3_512', 'shake_256', 'md5', 'sha224', 'sha384', 'sha3_256', 'sha3_224', 'blake2b', 'sha256', 'blake2s', 'shake_128', 'sha1', 'sha3_384', 'sha512'}\n"
     ]
    }
   ],
   "source": [
    "#Sha Agorithm in python\n",
    "# Python 3 code to check\n",
    "# available algorithms\n",
    "\n",
    "import hashlib\n",
    "\n",
    "# prints all available algorithms\n",
    "print (\"The available algorithms are : \", end =\"\")\n",
    "print (hashlib.algorithms_guaranteed)\n"
   ]
  },
  {
   "cell_type": "code",
   "execution_count": 7,
   "id": "7bd508c7",
   "metadata": {},
   "outputs": [
    {
     "name": "stdout",
     "output_type": "stream",
     "text": [
      "The hexadecimal equivalent of SHA256 is : \n",
      "b5844b0bbadb9291307e109aceddfe31ec53f59bf1f5e4f4c85726263c1b12fd\n",
      "\r\n",
      "The hexadecimal equivalent of SHA384 is : \n",
      "0fa987b518c0119e8d0e309b498c2593a7baccc9703906071dc7042c17c1f4c400becf6e005facc6d1e94019bba05e46\n",
      "\r\n",
      "The hexadecimal equivalent of SHA224 is : \n",
      "6814aed6e02563352b83443a8e1448780e3ede4afbb5f5dc8983a9b3\n",
      "\r\n",
      "The hexadecimal equivalent of SHA512 is : \n",
      "619454e408fdba6a492ed0ff0fe103e77a78ed2f296edcab5ba58639e42f54c3829e258328baf26affdc71bf1f8684728baac5e8f0e0a054286d1ea3eecc8e18\n",
      "\r\n",
      "The hexadecimal equivalent of SHA1 is : \n",
      "03b09758399a137f5d654bf98164903e1cbd7700\n"
     ]
    }
   ],
   "source": [
    "# Python 3 code to demonstrate\n",
    "# SHA hash algorithms.\n",
    "\n",
    "import hashlib\n",
    "\n",
    "# initializing string\n",
    "str = \"Pooja Patel\"\n",
    "\n",
    "# encoding GeeksforGeeks using encode()\n",
    "# then sending to SHA256()\n",
    "result = hashlib.sha256(str.encode())\n",
    "\n",
    "# printing the equivalent hexadecimal value.\n",
    "print(\"The hexadecimal equivalent of SHA256 is : \")\n",
    "print(result.hexdigest())\n",
    "\n",
    "print (\"\\r\")\n",
    "\n",
    "# initializing string\n",
    "str = \"Pooja Patel\"\n",
    "\n",
    "# encoding GeeksforGeeks using encode()\n",
    "# then sending to SHA384()\n",
    "result = hashlib.sha384(str.encode())\n",
    "\n",
    "# printing the equivalent hexadecimal value.\n",
    "print(\"The hexadecimal equivalent of SHA384 is : \")\n",
    "print(result.hexdigest())\n",
    "\n",
    "print (\"\\r\")\n",
    "\n",
    "# initializing string\n",
    "str = \"Pooja Patel\"\n",
    "\n",
    "# encoding GeeksforGeeks using encode()\n",
    "# then sending to SHA224()\n",
    "result = hashlib.sha224(str.encode())\n",
    "\n",
    "# printing the equivalent hexadecimal value.\n",
    "print(\"The hexadecimal equivalent of SHA224 is : \")\n",
    "print(result.hexdigest())\n",
    "\n",
    "print (\"\\r\")\n",
    "\n",
    "# initializing string\n",
    "str = \"Pooja Patel\"\n",
    "\n",
    "# encoding GeeksforGeeks using encode()\n",
    "# then sending to SHA512()\n",
    "result = hashlib.sha512(str.encode())\n",
    "\n",
    "# printing the equivalent hexadecimal value.\n",
    "print(\"The hexadecimal equivalent of SHA512 is : \")\n",
    "print(result.hexdigest())\n",
    "\n",
    "print (\"\\r\")\n",
    "\n",
    "# initializing string\n",
    "str = \"Pooja Patel\"\n",
    "\n",
    "# encoding GeeksforGeeks using encode()\n",
    "# then sending to SHA1()\n",
    "result = hashlib.sha1(str.encode())\n",
    "\n",
    "# printing the equivalent hexadecimal value.\n",
    "print(\"The hexadecimal equivalent of SHA1 is : \")\n",
    "print(result.hexdigest())\n"
   ]
  },
  {
   "cell_type": "code",
   "execution_count": 8,
   "id": "63fac542",
   "metadata": {},
   "outputs": [
    {
     "name": "stdout",
     "output_type": "stream",
     "text": [
      "String : pythonpool.com\n",
      "Hash Value : <sha256 HASH object @ 0x000001D7A2EE1530>\n",
      "Hexadecimal equivalent:  f5643bd6fd24dcfd3d63379e15628746ccedbc42ef57d94c9c7e957954fedaca\n",
      "Digest Size : 32\n",
      "Block Size : 64\n"
     ]
    }
   ],
   "source": [
    "#SHA 256\n",
    "\n",
    "import hashlib\n",
    "string=\"pythonpool.com\"\n",
    "encoded=string.encode()\n",
    "result = hashlib.sha256(encoded)\n",
    "print(\"String : \", end =\"\")\n",
    "print(string)\n",
    "print(\"Hash Value : \", end =\"\")\n",
    "print(result)\n",
    "print(\"Hexadecimal equivalent: \",result.hexdigest())\n",
    "print(\"Digest Size : \", end =\"\")\n",
    "print(result.digest_size)\n",
    "print(\"Block Size : \", end =\"\")\n",
    "print(result.block_size)"
   ]
  },
  {
   "cell_type": "code",
   "execution_count": null,
   "id": "fea9b1d3",
   "metadata": {},
   "outputs": [],
   "source": []
  }
 ],
 "metadata": {
  "kernelspec": {
   "display_name": "Python 3",
   "language": "python",
   "name": "python3"
  },
  "language_info": {
   "codemirror_mode": {
    "name": "ipython",
    "version": 3
   },
   "file_extension": ".py",
   "mimetype": "text/x-python",
   "name": "python",
   "nbconvert_exporter": "python",
   "pygments_lexer": "ipython3",
   "version": "3.8.8"
  }
 },
 "nbformat": 4,
 "nbformat_minor": 5
}
